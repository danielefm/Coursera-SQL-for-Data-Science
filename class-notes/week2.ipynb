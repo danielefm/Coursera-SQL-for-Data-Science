{
 "metadata": {
  "language_info": {
   "codemirror_mode": {
    "name": "ipython",
    "version": 3
   },
   "file_extension": ".py",
   "mimetype": "text/x-python",
   "name": "python",
   "nbconvert_exporter": "python",
   "pygments_lexer": "ipython3",
   "version": "3.6.9-final"
  },
  "orig_nbformat": 2,
  "kernelspec": {
   "name": "python_defaultSpec_1598137115038",
   "display_name": "Python 3.6.9 64-bit ('sql4ds': venv)"
  }
 },
 "nbformat": 4,
 "nbformat_minor": 2,
 "cells": [
  {
   "cell_type": "markdown",
   "metadata": {},
   "source": [
    "# Filtering, sorting and calculating data with SQL\n",
    "\n",
    "## Basics of Filtering with SQL\n",
    "\n",
    "* Why filter?\n",
    "    * Be specific about the data you want to retrieve\n",
    "    * Reduce the number of records you retrieve\n",
    "    * Increase query performance\n",
    "    * Reduce the strain on the client application\n",
    "    * Governance limitations\n",
    "\n",
    "* Filtering is done with WHERE Clause Operators:"
   ]
  },
  {
   "cell_type": "code",
   "execution_count": null,
   "metadata": {},
   "outputs": [],
   "source": [
    "# WHERE Clause Operators\n",
    "statement = \"\"\"\n",
    "\n",
    "SELECT column_name, column_name\n",
    "FROM table_name\n",
    "WHERE column_name operator value;\n",
    "\n",
    "\"\"\""
   ]
  },
  {
   "cell_type": "markdown",
   "metadata": {},
   "source": [
    "* Possible operators:\n",
    "    * = equal\n",
    "    * <> not equal\n",
    "    * \\> greater than\n",
    "    * < less than\n",
    "    * \\>= greater than or equal\n",
    "    * <= less than or equal\n",
    "    * BETWEEN ... AND\n",
    "    * ISNULL\n",
    "\n"
   ]
  },
  {
   "cell_type": "markdown",
   "metadata": {},
   "source": [
    "## Advanced filtering: IN, OR, and NOT\n",
    "\n",
    "* IN Operator\n",
    "    * Specifies a range of conditions\n",
    "    * Comma delimited list of values\n",
    "    * Enclosed in ()"
   ]
  },
  {
   "cell_type": "code",
   "execution_count": null,
   "metadata": {},
   "outputs": [],
   "source": [
    "# IN Operator example\n",
    "statement = \"\"\"\n",
    "\n",
    "SELECT\n",
    "ProductID\n",
    ",UnitPrice\n",
    ",SupplierID\n",
    "From Products\n",
    "WHERE SupplierID IN (9, 10, 11);\n",
    "\n",
    "\"\"\""
   ]
  },
  {
   "cell_type": "markdown",
   "metadata": {},
   "source": [
    "* OR Operator\n",
    "    * DBMS will not evaluate the second conditions in a WHERE clause if the first condition is met\n",
    "    * Use for any rows matching the specific conditions"
   ]
  },
  {
   "cell_type": "code",
   "execution_count": null,
   "metadata": {},
   "outputs": [],
   "source": [
    "# WHERE Operator example\n",
    "statement = \"\"\"\n",
    "\n",
    "SELECT\n",
    "ProductName\n",
    ",ProductID\n",
    ",UnitPrice\n",
    ",SupplierID\n",
    ",ProductName\n",
    "FROM Products\n",
    "WHERE ProductName = 'Tofu' OR 'Konbu';\n",
    "\n",
    "\"\"\""
   ]
  },
  {
   "cell_type": "markdown",
   "metadata": {},
   "source": [
    "* IN vs. OR\n",
    "    * IN works the same as OR\n",
    "    * Benefits of IN:\n",
    "        * Long list of options\n",
    "        * IN executes faster than OR\n",
    "        * Don't have to think about the order with IN\n",
    "        * Can contain another SELECT for subqueries"
   ]
  },
  {
   "cell_type": "markdown",
   "metadata": {},
   "source": [
    "* Using OR with AND\n",
    "    * You have to be very careful because you can get different results depending on how you implement it (use of parenthesis)"
   ]
  },
  {
   "cell_type": "code",
   "execution_count": 1,
   "metadata": {},
   "outputs": [],
   "source": [
    "# Example of NOT operator\n",
    "statement = \"\"\"\n",
    "\n",
    "SELECT *\n",
    "FROM Employees\n",
    "WHERE NOT City='London' AND\n",
    "NOT City='Seatle';\n",
    "\n",
    "\"\"\""
   ]
  },
  {
   "cell_type": "markdown",
   "metadata": {},
   "source": [
    "## Using wildcards in SQL\n",
    "\n",
    "* What are wildcards?\n",
    "    * Special character used to match parts of a value\n",
    "    * Search pattern made from literal text, wild character, or a combination\n",
    "    * Uses LIKE as an operator (though it is technically a predicate)\n",
    "    * Can only be used with strings\n",
    "    * Cannot be used for non-text datatypes\n",
    "    * Helpful for data scientists as they explore string variables\n",
    "\n",
    "* Using % wildcards\n",
    "    * **'%Pizza'** - Grabs anything ending with the word Pizza\n",
    "    * **'Pizza%'** - Grabs anything after the work Pizza\n",
    "    * **'%Pizza%'** - Grabs anything before and after the word Pizza"
   ]
  }
 ]
}