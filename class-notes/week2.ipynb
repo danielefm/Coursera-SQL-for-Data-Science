{
 "metadata": {
  "language_info": {
   "codemirror_mode": {
    "name": "ipython",
    "version": 3
   },
   "file_extension": ".py",
   "mimetype": "text/x-python",
   "name": "python",
   "nbconvert_exporter": "python",
   "pygments_lexer": "ipython3",
   "version": "3.6.9-final"
  },
  "orig_nbformat": 2,
  "kernelspec": {
   "name": "python_defaultSpec_1598308734158",
   "display_name": "Python 3.6.9 64-bit ('sql4ds': venv)"
  }
 },
 "nbformat": 4,
 "nbformat_minor": 2,
 "cells": [
  {
   "cell_type": "markdown",
   "metadata": {},
   "source": [
    "# Filtering, sorting and calculating data with SQL\n",
    "\n",
    "## Basics of Filtering with SQL\n",
    "\n",
    "* Why filter?\n",
    "    * Be specific about the data you want to retrieve\n",
    "    * Reduce the number of records you retrieve\n",
    "    * Increase query performance\n",
    "    * Reduce the strain on the client application\n",
    "    * Governance limitations\n",
    "\n",
    "* Filtering is done with WHERE Clause Operators:"
   ]
  },
  {
   "cell_type": "code",
   "execution_count": null,
   "metadata": {},
   "outputs": [],
   "source": [
    "# WHERE Clause Operators\n",
    "statement = \"\"\"\n",
    "\n",
    "SELECT column_name, column_name\n",
    "FROM table_name\n",
    "WHERE column_name operator value;\n",
    "\n",
    "\"\"\""
   ]
  },
  {
   "cell_type": "markdown",
   "metadata": {},
   "source": [
    "* Possible operators:\n",
    "    * = equal\n",
    "    * <> not equal\n",
    "    * \\> greater than\n",
    "    * < less than\n",
    "    * \\>= greater than or equal\n",
    "    * <= less than or equal\n",
    "    * BETWEEN ... AND\n",
    "    * ISNULL\n",
    "\n"
   ]
  },
  {
   "cell_type": "markdown",
   "metadata": {},
   "source": [
    "## Advanced filtering: IN, OR, and NOT\n",
    "\n",
    "* IN Operator\n",
    "    * Specifies a range of conditions\n",
    "    * Comma delimited list of values\n",
    "    * Enclosed in ()"
   ]
  },
  {
   "cell_type": "code",
   "execution_count": null,
   "metadata": {},
   "outputs": [],
   "source": [
    "# IN Operator example\n",
    "statement = \"\"\"\n",
    "\n",
    "SELECT\n",
    "ProductID\n",
    ",UnitPrice\n",
    ",SupplierID\n",
    "From Products\n",
    "WHERE SupplierID IN (9, 10, 11);\n",
    "\n",
    "\"\"\""
   ]
  },
  {
   "cell_type": "markdown",
   "metadata": {},
   "source": [
    "* OR Operator\n",
    "    * DBMS will not evaluate the second conditions in a WHERE clause if the first condition is met\n",
    "    * Use for any rows matching the specific conditions"
   ]
  },
  {
   "cell_type": "code",
   "execution_count": null,
   "metadata": {},
   "outputs": [],
   "source": [
    "# WHERE Operator example\n",
    "statement = \"\"\"\n",
    "\n",
    "SELECT\n",
    "ProductName\n",
    ",ProductID\n",
    ",UnitPrice\n",
    ",SupplierID\n",
    ",ProductName\n",
    "FROM Products\n",
    "WHERE ProductName = 'Tofu' OR 'Konbu';\n",
    "\n",
    "\"\"\""
   ]
  },
  {
   "cell_type": "markdown",
   "metadata": {},
   "source": [
    "* IN vs. OR\n",
    "    * IN works the same as OR\n",
    "    * Benefits of IN:\n",
    "        * Long list of options\n",
    "        * IN executes faster than OR\n",
    "        * Don't have to think about the order with IN\n",
    "        * Can contain another SELECT for subqueries"
   ]
  },
  {
   "cell_type": "markdown",
   "metadata": {},
   "source": [
    "* Using OR with AND\n",
    "    * You have to be very careful because you can get different results depending on how you implement it (use of parenthesis)"
   ]
  },
  {
   "cell_type": "code",
   "execution_count": 5,
   "metadata": {},
   "outputs": [],
   "source": [
    "# Example of NOT operator\n",
    "statement = \"\"\"\n",
    "SELECT *\n",
    "FROM Employees\n",
    "WHERE NOT City='London' AND\n",
    "NOT City='Seatle';\n",
    "\"\"\""
   ]
  },
  {
   "cell_type": "markdown",
   "metadata": {},
   "source": [
    "## Using wildcards in SQL\n",
    "\n",
    "* What are wildcards?\n",
    "    * Special character used to match parts of a value\n",
    "    * Search pattern made from literal text, wild character, or a combination\n",
    "    * Uses LIKE as an operator (though it is technically a predicate)\n",
    "    * Can only be used with strings\n",
    "    * Cannot be used for non-text datatypes\n",
    "    * Helpful for data scientists as they explore string variables\n",
    "\n",
    "* Using % wildcards\n",
    "    * **'%Pizza'** - Grabs anything ending with the word Pizza\n",
    "    * **'Pizza%'** - Grabs anything after the work Pizza\n",
    "    * **'%Pizza%'** - Grabs anything before and after the word Pizza\n",
    "    * **'S%E'** - Grabs anything that starts with \"S\" and ends with \"E\" (Like 'Sadie')\n",
    "    * **'t%@gmail.com'** - Grabs gmail addresses that start with \"t\" (hoping to find 'Tom')\n",
    "    * **OBS**: wildcards will not match NULLs"
   ]
  },
  {
   "cell_type": "code",
   "execution_count": null,
   "metadata": {},
   "outputs": [],
   "source": [
    "statement = \"\"\"\n",
    "\n",
    "WHERE size LIKE '%pizza'\n",
    "\n",
    "\"\"\"\n",
    "\n",
    "output = \"\"\"\n",
    "    spizza\n",
    "    mpizza\n",
    "\"\"\""
   ]
  },
  {
   "cell_type": "markdown",
   "metadata": {},
   "source": [
    "* Bracket [] wildcard\n",
    "    * Used to specifiy a set of characters in a specific location\n",
    "    * Does not work with all DBMS\n",
    "    * Does **not** work with **SQLite**\n",
    "\n",
    "* Downsides of wildcards\n",
    "    * Takes longer to run\n",
    "    * Better to use another operator (if possible): =,<,=>, and etc\n",
    "    * Statements with wildcards will take longer to run if used at the end of search patterns\n",
    "    * Placement of wildcards is important"
   ]
  },
  {
   "cell_type": "markdown",
   "metadata": {},
   "source": [
    "## Sorting with ORDER BY\n",
    "\n",
    "* Why sort data?\n",
    "    * Data displayed appears in the order of the underlying tables\n",
    "    * Updated and deleted data can change this order\n",
    "    * Sequence of retrieved data cannot be assumed if order was not specified\n",
    "    * Sorting data logically helps keep information you want on top\n",
    "    * ORDER BY clause allows user to sort data by particular columns"
   ]
  },
  {
   "cell_type": "code",
   "execution_count": 3,
   "metadata": {},
   "outputs": [],
   "source": [
    "statement = \"\"\"\n",
    "\n",
    "SELECT something\n",
    "FROM database\n",
    "ORDER BY characteristic\n",
    "\n",
    "\"\"\""
   ]
  },
  {
   "cell_type": "markdown",
   "metadata": {},
   "source": [
    "* Rules for ORDER BY\n",
    "    * Takes the name of one or more columns\n",
    "    * Add a comma after each additional column name\n",
    "    * Can sort by a column not retrieved\n",
    "    * Must always be the last clause in a select statement\n",
    "\n",
    "* Sorting by column position\n",
    "    * ORDER BY 2,3 (meaning 2nd and 3rd columns)\n",
    "\n",
    "* Sort direction\n",
    "    * DESC descending order\n",
    "    * ASC ascending order\n",
    "    * Only applies to the column names it directly precedes"
   ]
  },
  {
   "cell_type": "markdown",
   "metadata": {},
   "source": [
    "## Math Operations\n",
    "\n",
    "* Math operators\n",
    "    * \\+ addition\n",
    "    * \\- subtraction\n",
    "    * \\* multiplication\n",
    "    * / division"
   ]
  },
  {
   "cell_type": "code",
   "execution_count": null,
   "metadata": {},
   "outputs": [],
   "source": [
    "# Multiplication Example\n",
    "statement = \"\"\"\n",
    "\n",
    "SELECT\n",
    "ProductID\n",
    ",UnitsOnOrder\n",
    ",UnitPrice\n",
    ",UnitsOnOrder * UnitPrice AS Total_Order_Cost\n",
    "FROM Products\n",
    "\n",
    "\"\"\"\n",
    "\n",
    "# Combining Math Operations\n",
    "statement = \"\"\"\n",
    "\n",
    "SELECT\n",
    "ProductId\n",
    ",Quantity\n",
    ",UnitPrice\n",
    ",Discount\n",
    ",(UnitPrice - Discount)/Quantity AS Total_Cost\n",
    "FROM Products\n",
    "\n",
    "\"\"\""
   ]
  },
  {
   "cell_type": "markdown",
   "metadata": {},
   "source": [
    "## Aggregate Functions\n",
    "\n",
    "* What are Aggregate Functions?\n",
    "    * Used to summarize data\n",
    "    * Finding the highest and lowest values\n",
    "    * Finding the total number of rows\n",
    "    * Finding the average value\n",
    "\n",
    "* Aggregate Functions\n",
    "    * AVG()\n",
    "    * COUNT()\n",
    "    * MIN()\n",
    "    * MAX()\n",
    "    * SUM()"
   ]
  },
  {
   "cell_type": "code",
   "execution_count": 4,
   "metadata": {},
   "outputs": [],
   "source": [
    "# AVERAGE Function\n",
    "statement = \"\"\"\n",
    "SELECT AVG(UnitPrice) AS avg_price\n",
    "FROM products\n",
    "\"\"\"\n",
    "\n",
    "# COUNT (*) - Counts all the rows in a table\n",
    "# containing values or NULL Values\n",
    "statement = \"\"\"\n",
    "SELECT COUNT (*) AS\n",
    "total_customers\n",
    "FROM Customers\n",
    "\"\"\"\n",
    "\n",
    "# COUNT (column) - Counts all the rows in a\n",
    "# specific column ignoring NULL values\n",
    "statement = \"\"\"\n",
    "SELECT COUNT(CustomerID) AS\n",
    "total_customers\n",
    "FROM Customers\n",
    "\"\"\"\n",
    "\n",
    "# MAX and MIN Function\n",
    "statement = \"\"\"\n",
    "SELECT MAX(UnitPrice) AS max_prod_price\n",
    "FROM Products\n",
    "\"\"\"\n",
    "\n",
    "statement = \"\"\"\n",
    "SELECT MAX(UnitPrice) AS max_prod_price\n",
    ",MIN(UnitPrice) AS min_prod_price\n",
    "FROM Products\n",
    "\"\"\"\n",
    "\n",
    "# SUM Function\n",
    "statement = \"\"\"\n",
    "SELECT SUM(UnitPrice) AS\n",
    "    total_prod_price\n",
    "FROM Products\n",
    "\"\"\"\n",
    "\n",
    "statement = \"\"\"\n",
    "SELECT SUM(UnitPrice*UnitsInStock)\n",
    "       AS total_price\n",
    "FROM Products\n",
    "WHERE SupplierID = 23;\n",
    "\"\"\""
   ]
  },
  {
   "cell_type": "markdown",
   "metadata": {},
   "source": [
    "* Using DISTINCT on Aggregate Functions\n",
    "    * If DISTINCT is not specified, ALL is assumed\n",
    "    * Cannot use DISTINCT on COUNT(*)\n",
    "    * No value to use with MIN and MAX functions "
   ]
  },
  {
   "cell_type": "code",
   "execution_count": null,
   "metadata": {},
   "outputs": [],
   "source": [
    "statement = \"\"\"\n",
    "\n",
    "SELECT COUNT(DISTINCT CustomerID)\n",
    "FROM Customers\n",
    "\n",
    "\"\"\""
   ]
  },
  {
   "cell_type": "markdown",
   "metadata": {},
   "source": [
    "## Grouping Data with SQL\n",
    "\n",
    "* Grouping example: count customers after a group on region rather than counting the whole table"
   ]
  },
  {
   "cell_type": "code",
   "execution_count": null,
   "metadata": {},
   "outputs": [],
   "source": [
    "statement = \"\"\"\n",
    "\n",
    "SELECT\n",
    "Region\n",
    ",COUNT(CustomerID) AS total_customers\n",
    "FROM Customers\n",
    "GROUP BY Region;\n",
    "\n",
    "\"\"\""
   ]
  },
  {
   "cell_type": "markdown",
   "metadata": {},
   "source": [
    "* Additional GROUP BY Information\n",
    "    * GROUP BY clauses can contain multiple columns\n",
    "    * Every column in your SELECT statement must be present in a GROUP BY clause, except for aggregated calculations\n",
    "    * NULLs will be grouped together if your GROUP BY column contains NULLs\n",
    "\n",
    "* HAVING Clause - Filtering for Groups\n",
    "    * WHERE does not work for groups\n",
    "    * WHERE filters on rows\n",
    "    * Instead use HAVING clause to filter for groups\n",
    "    * GROUP BY does not sort data"
   ]
  },
  {
   "cell_type": "code",
   "execution_count": null,
   "metadata": {},
   "outputs": [],
   "source": [
    "# Grouping example\n",
    "statement = \"\"\"\n",
    "\n",
    "SELECT\n",
    "CustomerID\n",
    ",COUNT (*) AS orders\n",
    "FROM Orders\n",
    "GROUP BY CustomerID\n",
    "HAVING COUNT (*) >=2;\n",
    "\n",
    "\"\"\""
   ]
  },
  {
   "cell_type": "markdown",
   "metadata": {},
   "source": [
    "* WHERE vs. HAVING\n",
    "    * WHERE filters before data is grouped\n",
    "    * HAVING filters after data is grouped\n",
    "    * Rows eliminated by the WHERE clause will not be inlcuded in the group"
   ]
  },
  {
   "cell_type": "markdown",
   "metadata": {},
   "source": [
    "## Suggested Reading\n",
    "[Pyhton-SQL Package Documentation](https://pypi.python.org/pypi/python-sql)"
   ]
  }
 ]
}