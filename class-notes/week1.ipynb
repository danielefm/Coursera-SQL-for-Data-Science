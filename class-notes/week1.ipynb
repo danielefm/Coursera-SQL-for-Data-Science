{
 "metadata": {
  "language_info": {
   "codemirror_mode": {
    "name": "ipython",
    "version": 3
   },
   "file_extension": ".py",
   "mimetype": "text/x-python",
   "name": "python",
   "nbconvert_exporter": "python",
   "pygments_lexer": "ipython3",
   "version": "3.6.9-final"
  },
  "orig_nbformat": 2,
  "kernelspec": {
   "name": "python_defaultSpec_1598133838431",
   "display_name": "Python 3.6.9 64-bit ('sql4ds': venv)"
  }
 },
 "nbformat": 4,
 "nbformat_minor": 2,
 "cells": [
  {
   "cell_type": "markdown",
   "metadata": {},
   "source": [
    "# Selecting and Retrieving Data with SQL"
   ]
  },
  {
   "cell_type": "markdown",
   "metadata": {},
   "source": [
    "## What is SQL anyway?\n",
    "\n",
    "* SQL = Structured Query Language\n",
    "* It is a standard computer language for relational database management and data manipulation\n",
    "* It is used to query, insert, update and modify data\n",
    "* It is used to communicate with databases\n",
    "* Statements are made up of descriptive works and are easy to learn\n",
    "* SQL is a non-procedural language:\n",
    "    * It cannot write complete applications\n",
    "    * It is simple, but powerful\n",
    "\n",
    "### Database Administrator vs. Data Scientist\n",
    "\n",
    "* DBA\n",
    "    * Manages/governs entire database\n",
    "    * Gives permissions to users\n",
    "    * Determines access to data\n",
    "    * Manages and creates tables\n",
    "    * Uses SQL to query and retrieve data\n",
    "\n",
    "* Data Scientist\n",
    "    * End user of a database\n",
    "    * Uses SQL to query and retrieve data\n",
    "        * May create their own table or test environment\n",
    "        * Combines multiple sources together\n",
    "        * Writes complex queries for analysis\n",
    "\n",
    "### SQL and Database Management Systems\n",
    "\n",
    "* How you write syntax will depend on the DBMS you are using\n",
    "* Each DBMS has its own dialect\n",
    "* SQL can translate\n",
    "* You will tweak based on the dialect your DBMS speaks\n",
    "\n"
   ]
  },
  {
   "cell_type": "markdown",
   "metadata": {},
   "source": [
    "## Thinking about your data\n",
    "\n",
    "* **Think before you code**: what is the problem you are trying to solve?\n",
    "* **Understand your data**:\n",
    "    * Understand the business process or subject matter the data is modeled after\n",
    "    * Know the business rules\n",
    "    * Understand how your data is organized and structured in the table (modeled)\n",
    "* **Concepts**:\n",
    "    * Database: a container (usually a file or a set of files) to store organized data; a set of related information\n",
    "    * Tables: a structured list of data or a specific data type\n",
    "    * Columns: a single field in a table\n",
    "    * Row: a record in a table"
   ]
  },
  {
   "cell_type": "markdown",
   "metadata": {},
   "source": [
    "## Evolution of data models\n",
    "* What is data modeling?\n",
    "    * Models organize and structure information into multiple related tables\n",
    "    * They can represent a business process or show relationships between business processes\n",
    "    * They should closely represent the real world\n",
    "* Relational models\n",
    "    * Conceptual simplicity (structural independence)\n",
    "    * Provides ad-hoc queries (SQL)\n",
    "    * Set-oriented acess\n",
    "* No-SQL models\n",
    "    * Address the big data problem\n",
    "    * Less semantics in data models\n",
    "    * Based on schema-less key-value data-model\n",
    "    * Best suited for large sparse data stores"
   ]
  },
  {
   "cell_type": "markdown",
   "metadata": {},
   "source": [
    "## Relational vs. Transactional Models\n",
    "\n",
    "* Characteristics:\n",
    "    * **Relational model**: Allows for easy querying and data manipulation in an easy, logical and intuitive way\n",
    "    * **Transactional model**: Operacional database - insurance claims within a healthcare database\n",
    "\n",
    "* Data model building blocks\n",
    "    * Entity: person, place, thing or event. Distinguishable, unique and distinct\n",
    "    * Attribute: a characteristic of an entity\n",
    "    * Relationship: one-to-many, many-to-many, one-to-one\n",
    "\n",
    "* ER Diagrams\n",
    "    * Composed of entity types; it specifies relationships that can exist between instances of those entity types\n",
    "\n",
    "* Primary keys and foreign keys\n",
    "    * Primary key: a column (or set of columns) whose values uniquely identify every row in a table\n",
    "    * Foreign key: one or more columns that can be used together to identify a single row in another table\n",
    "\n",
    "* ER Diagram Notation:\n",
    "    * Chen Notation:\n",
    "        * painter -1:M- painting\n",
    "        * employee -M:N- skill\n",
    "        * manager -1:1- store\n",
    "    \n",
    "    * Crow's foot Notation:\n",
    "        * painter || paints |< painting\n",
    "        * employee >| learns |< skill\n",
    "        * manager || manages || store"
   ]
  },
  {
   "cell_type": "markdown",
   "metadata": {},
   "source": [
    "## Good practices of writing statements"
   ]
  },
  {
   "cell_type": "code",
   "execution_count": 3,
   "metadata": {},
   "outputs": [],
   "source": [
    "# Retrieving data with a SELECT statement\n",
    "statement = \"\"\"\n",
    "\n",
    "SELECT prod_name,\n",
    "\t   prod_id,\n",
    "\t   prod_price\n",
    "FROM Products\n",
    "LIMIT 10;\n",
    "\n",
    "\"\"\"\n",
    "\n",
    "# Creating tables:\n",
    "statement = \"\"\"\n",
    "\n",
    "CREATE TABLE Shoes\n",
    "\t(\n",
    "\tId\tchar(10)\tPRIMARY KEY,\n",
    "\tBrand\tchar(10)\tNOT NULL,\n",
    "\tType\tchar(250)\tNOT NULL,\n",
    "\tColor\tchar(250)\tNOT NULL,\n",
    "\tPrice\tdecimal(8,2)\tNOT NULL,\n",
    "\tDesc\tVarchar\tNULL\n",
    "\t);\n",
    "\n",
    "\"\"\"\n",
    "\n",
    "# Creating 'rows'\n",
    "statement = \"\"\"\n",
    "\n",
    "INSERT INTO Shoes\n",
    "\t(Id,\n",
    "\tBrand,\n",
    "\tType,\n",
    "\tColor,\n",
    "\tPrice,\n",
    "\tDesc\n",
    "\t)\n",
    "\n",
    "VALUES\n",
    "\t(‘14535974’,\n",
    "    ‘Gucci’,\n",
    "    ‘Slippers’,\n",
    "    ‘Pink’,\n",
    "    ‘695.00’,\n",
    "    NULL);\n",
    "\n",
    "\"\"\""
   ]
  },
  {
   "cell_type": "markdown",
   "metadata": {},
   "source": [
    "## Creating temporary tables\n",
    "\n",
    "* Temporary tables will be deleted when current session is terminated\n",
    "* It is faster than creating a real table\n",
    "* Useful for complex queries when using subsets and joins"
   ]
  },
  {
   "cell_type": "code",
   "execution_count": 4,
   "metadata": {},
   "outputs": [],
   "source": [
    "statement = \"\"\"\n",
    "\n",
    "CREATE TEMPORARY TABLE Sandals AS\n",
    "\t(\n",
    "\t\tSELECT *\n",
    "\t\tFROM shoes\n",
    "\t\tWHERE shoe_type = ‘sandals’\n",
    "\t)\n",
    "\n",
    "\"\"\""
   ]
  },
  {
   "cell_type": "markdown",
   "metadata": {},
   "source": [
    "## Adding comments to SQL\n",
    "\n",
    "* Single lane comments: --\n",
    "* Multiple lane comments: /\\* code */"
   ]
  },
  {
   "cell_type": "markdown",
   "metadata": {},
   "source": [
    "## Suggested readings\n",
    "\n",
    "### SQL Overview\n",
    "* [What is SQL and how is it used?][https://www.thebalance.com/what-is-sql-and-uses-2071909]\n",
    "* [NTC Hosting: Structured Query Language][https://www.ntchosting.com/encyclopedia/databases/structured-query-language/]\n",
    "* [SQLite Tutorial][https://www.tutorialspoint.com/sqlite/index.htm]\n",
    "\n",
    "### Data modeling and ER Diagrams\n",
    "* [Entity-Relationshop Diagrams (9 min video)][https://www.youtube.com/watch?v=c0_9Y8QAstg]\n",
    "* [Star Schema vs. Snowflake Schema][http://www.vertabelo.com/blog/technical-articles/data-warehouse-modeling-star-schema-vs-snowflake-schema]\n",
    "* [Explain Star Schema & Snow Flake Design (5 min video)][https://www.youtube.com/watch?v=KUwOcip7Zzc]\n",
    "* [Data modeling 101][http://www.agiledata.org/essays/dataModeling101.html]\n",
    "* [What is Data Modeling - An Introduction for Business Analysts][http://business-analysis-excellence.com/what-is-data-modeling/]\n",
    "\n",
    "### Comparing NoSQL and SQL\n",
    "* [SQL vs. NoSQL - What you need to know][http://dataconomy.com/2014/07/sql-vs-nosql-need-know/]\n",
    "* [NoSQL keeps rising, but relational databases still dominate big data][http://www.techrepublic.com/article/nosql-keeps-rising-but-relational-databases-still-dominate-big-data/]\n",
    "* [Data Science skills: Is NoSQL better than SQL?][https://www.siliconrepublic.com/careers/data-science-skills-sql]"
   ]
  }
 ]
}